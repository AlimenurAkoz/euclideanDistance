{
 "cells": [
  {
   "cell_type": "code",
   "execution_count": 1,
   "id": "4dfb57ab-ecf9-47ac-981a-64f3038a4994",
   "metadata": {},
   "outputs": [
    {
     "name": "stdout",
     "output_type": "stream",
     "text": [
      "Minimum Distance =  4.123105625617661\n"
     ]
    }
   ],
   "source": [
    "points = ((5, 12), (6,8), (24,25))\n",
    "distances = []\n",
    "def euclideanDistance(point_1, point_2):\n",
    "    return ((point_1[0] - point_2[0])**2 + (point_1[1] - point_2[1])**2)**(1/2)\n",
    "for i in range(len(points)-1):\n",
    "        for j in range(i+1, len(points)-1):\n",
    "             point_1 = points[i]\n",
    "             point_2 = points[j]\n",
    "             distances.append(euclideanDistance(point_1, point_2))\n",
    "\n",
    "def compare():\n",
    "    minDistance = distances[0]\n",
    "    for distance in distances:\n",
    "        if minDistance > distance:\n",
    "           minDistance = distance\n",
    "        return print(\"Minimum Distance = \" , minDistance)\n",
    "compare()\n",
    "   "
   ]
  },
  {
   "cell_type": "code",
   "execution_count": null,
   "id": "ec4fb2b2-a926-47a5-996b-cdbd289e29e2",
   "metadata": {},
   "outputs": [],
   "source": []
  }
 ],
 "metadata": {
  "kernelspec": {
   "display_name": "Python 3 (ipykernel)",
   "language": "python",
   "name": "python3"
  },
  "language_info": {
   "codemirror_mode": {
    "name": "ipython",
    "version": 3
   },
   "file_extension": ".py",
   "mimetype": "text/x-python",
   "name": "python",
   "nbconvert_exporter": "python",
   "pygments_lexer": "ipython3",
   "version": "3.12.4"
  }
 },
 "nbformat": 4,
 "nbformat_minor": 5
}
